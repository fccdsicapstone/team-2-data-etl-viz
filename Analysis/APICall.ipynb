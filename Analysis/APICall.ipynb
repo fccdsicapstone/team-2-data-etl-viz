{
 "cells": [
  {
   "cell_type": "code",
   "execution_count": 1,
   "metadata": {
    "collapsed": true
   },
   "outputs": [],
   "source": [
    "import requests\n",
    "import json\n",
    "import csv"
   ]
  },
  {
   "cell_type": "code",
   "execution_count": 2,
   "metadata": {
    "collapsed": true
   },
   "outputs": [],
   "source": [
    "import pandas as pd\n",
    "\n",
    "query = \"\"\"\n",
    "SELECT DISTINCT SUBSTR(state_county_code, 3, 5) AS state_county_code, state_code FROM `fccdsicapstone-218522.broadband.census_block` \n",
    "\"\"\"\n",
    "\n",
    "table = pd.read_gbq(query, project_id='fccdsicapstone-218522', dialect='standard')"
   ]
  },
  {
   "cell_type": "code",
   "execution_count": 3,
   "metadata": {},
   "outputs": [
    {
     "data": {
      "text/html": [
       "<div>\n",
       "<style scoped>\n",
       "    .dataframe tbody tr th:only-of-type {\n",
       "        vertical-align: middle;\n",
       "    }\n",
       "\n",
       "    .dataframe tbody tr th {\n",
       "        vertical-align: top;\n",
       "    }\n",
       "\n",
       "    .dataframe thead th {\n",
       "        text-align: right;\n",
       "    }\n",
       "</style>\n",
       "<table border=\"1\" class=\"dataframe\">\n",
       "  <thead>\n",
       "    <tr style=\"text-align: right;\">\n",
       "      <th></th>\n",
       "      <th>state_county_code</th>\n",
       "      <th>state_code</th>\n",
       "    </tr>\n",
       "  </thead>\n",
       "  <tbody>\n",
       "    <tr>\n",
       "      <th>0</th>\n",
       "      <td>011</td>\n",
       "      <td>01</td>\n",
       "    </tr>\n",
       "    <tr>\n",
       "      <th>1</th>\n",
       "      <td>043</td>\n",
       "      <td>01</td>\n",
       "    </tr>\n",
       "    <tr>\n",
       "      <th>2</th>\n",
       "      <td>121</td>\n",
       "      <td>01</td>\n",
       "    </tr>\n",
       "    <tr>\n",
       "      <th>3</th>\n",
       "      <td>083</td>\n",
       "      <td>01</td>\n",
       "    </tr>\n",
       "    <tr>\n",
       "      <th>4</th>\n",
       "      <td>131</td>\n",
       "      <td>01</td>\n",
       "    </tr>\n",
       "  </tbody>\n",
       "</table>\n",
       "</div>"
      ],
      "text/plain": [
       "  state_county_code state_code\n",
       "0               011         01\n",
       "1               043         01\n",
       "2               121         01\n",
       "3               083         01\n",
       "4               131         01"
      ]
     },
     "execution_count": 3,
     "metadata": {},
     "output_type": "execute_result"
    }
   ],
   "source": [
    "table.head()"
   ]
  },
  {
   "cell_type": "code",
   "execution_count": 15,
   "metadata": {
    "collapsed": true
   },
   "outputs": [],
   "source": [
    "first_part = \"https://api.census.gov/data/2015/acs/acs5?get=B02001_001E,B02001_002E,B02001_003E,B02001_004E,B02001_005E,B02001_006E,B02001_007E,B02001_008E,B03003_001E,B03003_002E,B03003_003E,B14007_001E,B14007_017E,B14007_018E,B14007_019E,B15003_001E,B15003_017E,B15003_018E,B15003_021E,B15003_022E,B15003_023E,B15003_024E,B15003_025E,B19013_001E,B23025_003E,B23025_004E,B23025_005E,B25003_001E,B25003_002E,B25003_003E&for=block%20group:*&in=state:\"\n",
    "second_part = \"%20county:\"\n",
    "third_part = \"&key=e03e8ba74bfd978f1d4d261028f39729f5a929c7\"\n",
    "\n",
    "\n"
   ]
  },
  {
   "cell_type": "code",
   "execution_count": 30,
   "metadata": {
    "collapsed": true
   },
   "outputs": [],
   "source": [
    "first_part = \"https://api.census.gov/data/2016/acs/acs5?get=B01001_001E,B01001_006E,B01001_007E,B01001_008E,B01001_009E,B01001_010E,B01001_011E,B01001_012E,B01001_013E,B01001_030E,B01001_031E,B01001_032E,B01001_033E,B01001_034E,B01001_035E,B01001_036E,B01001_037E,B25077_001E,B27010_001E,B27010_017E,B27010_033E,B27010_050E,B27010_066E&for=block%20group:*&in=state:\"\n",
    "second_part = \"%20county:\"\n",
    "third_part = \"&key=e03e8ba74bfd978f1d4d261028f39729f5a929c7\""
   ]
  },
  {
   "cell_type": "code",
   "execution_count": 24,
   "metadata": {
    "collapsed": true
   },
   "outputs": [],
   "source": [
    "first_part = \"https://api.census.gov/data/2014/acs5?get=B01001_001E,B01001_006E,B01001_007E,B01001_008E,B01001_009E,B01001_010E,B01001_011E,B01001_012E,B01001_013E,B01001_030E,B01001_031E,B01001_032E,B01001_033E,B01001_034E,B01001_035E,B01001_036E,B01001_037E,B25077_001E,B27010_001E,B27010_017E,B27010_033E,B27010_050E,B27010_066E&for=block%20group:*&in=state:\"\n",
    "second_part = \"%20county:\"\n",
    "third_part = \"&key=e03e8ba74bfd978f1d4d261028f39729f5a929c7\"\n"
   ]
  },
  {
   "cell_type": "code",
   "execution_count": 6,
   "metadata": {
    "collapsed": true
   },
   "outputs": [],
   "source": [
    "first_part = \"https://api.census.gov/data/2015/acs/acs5?get=B01003_001E&for=block%20group:*&in=state:\"\n",
    "second_part = \"%20county:\"\n",
    "third_part = \"&key=e03e8ba74bfd978f1d4d261028f39729f5a929c7\"\n",
    "\n",
    "\n"
   ]
  },
  {
   "cell_type": "code",
   "execution_count": 3,
   "metadata": {
    "collapsed": true
   },
   "outputs": [],
   "source": [
    "first_part = \"https://api.census.gov/data/2014/acs5?get=B01003_001E&for=block%20group:*&in=state:\"\n",
    "second_part = \"%20county:\"\n",
    "third_part = \"&key=e03e8ba74bfd978f1d4d261028f39729f5a929c7\"\n"
   ]
  },
  {
   "cell_type": "code",
   "execution_count": 4,
   "metadata": {},
   "outputs": [
    {
     "name": "stdout",
     "output_type": "stream",
     "text": [
      "100\n",
      "200\n",
      "300\n",
      "400\n",
      "500\n",
      "600\n",
      "700\n",
      "800\n",
      "900\n",
      "1000\n",
      "1100\n",
      "1200\n",
      "1300\n",
      "1400\n",
      "1500\n",
      "1600\n",
      "1700\n",
      "1800\n",
      "1900\n",
      "2000\n",
      "2100\n",
      "2200\n",
      "2300\n",
      "2400\n",
      "2500\n",
      "2600\n",
      "2700\n",
      "2800\n",
      "2900\n",
      "3000\n",
      "3100\n"
     ]
    }
   ],
   "source": [
    "i = 0\n",
    "for index, row in table.iterrows():\n",
    "    i = i + 1\n",
    "    \n",
    "    if(i % 100 == 0):\n",
    "        print(i)\n",
    "    \n",
    "    url_string = first_part + str(row['state_code']) + second_part + str(row['state_county_code']) + third_part\n",
    "    response = requests.get(url_string)\n",
    "    \n",
    "    if(response.status_code == 200):\n",
    "        current_json = response.content\n",
    "\n",
    "    if(i == 1):\n",
    "        my_json = current_json.decode('utf8').replace(\"'\", '\"')\n",
    "        data = json.loads(my_json)\n",
    "        true_colnames = data.pop(0)\n",
    "        s = json.dumps(data)\n",
    "        all_data = pd.read_json(s)\n",
    "        all_data.columns = true_colnames\n",
    "\n",
    "        \n",
    "    else:\n",
    "        my_json = current_json.decode('utf8').replace(\"'\", '\"')\n",
    "        data = json.loads(my_json)\n",
    "        colnames = data.pop(0)\n",
    "        if(colnames == true_colnames):\n",
    "            s = json.dumps(data)\n",
    "            current_df = pd.read_json(s)\n",
    "            current_df.columns = colnames\n",
    "            all_data = all_data.append(current_df)\n",
    "        \n",
    "        "
   ]
  },
  {
   "cell_type": "code",
   "execution_count": 5,
   "metadata": {
    "collapsed": true
   },
   "outputs": [],
   "source": [
    "all_data.to_csv(\"acs2014_blockgroup_pop.csv\")"
   ]
  }
 ],
 "metadata": {
  "kernelspec": {
   "display_name": "Python 3",
   "language": "python",
   "name": "python3"
  },
  "language_info": {
   "codemirror_mode": {
    "name": "ipython",
    "version": 3
   },
   "file_extension": ".py",
   "mimetype": "text/x-python",
   "name": "python",
   "nbconvert_exporter": "python",
   "pygments_lexer": "ipython3",
   "version": "3.6.3"
  }
 },
 "nbformat": 4,
 "nbformat_minor": 2
}
